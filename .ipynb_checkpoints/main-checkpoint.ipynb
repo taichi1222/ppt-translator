{
 "cells": [
  {
   "cell_type": "raw",
   "metadata": {},
   "source": [
    "—\n",
    "title: パワポ　ほんやくん\n",
    "description: パワポを一括翻訳するよ\n",
    "show-code: False\n",
    "params:\n",
    "    prsname:\n",
    "        label: ファイルをアップしてください\n",
    "        input: \n",
    "—"
   ]
  },
  {
   "cell_type": "code",
   "execution_count": null,
   "metadata": {},
   "outputs": [],
   "source": [
    "prsname = \"/Users/taichi/Library/CloudStorage/OneDrive-横浜国立大学/修論/2021/発表資料/20220422_全体ゼミ_古川泰地.pptx\"\n",
    "src = \"ja\"\n",
    "dest = \"en\"\n",
    "output_dir = \"output\""
   ]
  },
  {
   "cell_type": "code",
   "execution_count": 1,
   "metadata": {},
   "outputs": [],
   "source": [
    "import time\n",
    "import tqdm\n",
    "from googletrans import Translator\n",
    "from pptx import Presentation\n",
    "import os"
   ]
  },
  {
   "cell_type": "code",
   "execution_count": 3,
   "metadata": {},
   "outputs": [],
   "source": [
    "translator = Translator()\n",
    "prs = Presentation(prsname)"
   ]
  },
  {
   "cell_type": "code",
   "execution_count": null,
   "metadata": {},
   "outputs": [],
   "source": [
    "print(\"翻訳中φ(´･ω･｀)ﾒﾓﾒﾓ\")\n",
    "for slide in tqdm.tqdm(prs.slides):\n",
    "    for shape in slide.shapes:\n",
    "        if shape.has_text_frame:\n",
    "            try:\n",
    "                changed=translator.translate(shape.text, dest=dest, src=src).text\n",
    "                shape.text = shape.text.replace(shape.text,changed)\n",
    "            except:\n",
    "                pass\n",
    "prs.save(\"./\" + output_dir + \"/\" +prsname.split('/')[-1].replace(\".pptx\",\"_\" + dest)+\".pptx\")\n",
    "print(\"出来た！✧*｡٩(ˊωˋ*)و✧*｡\")"
   ]
  },
  {
   "cell_type": "code",
   "execution_count": null,
   "metadata": {},
   "outputs": [],
   "source": []
  }
 ],
 "metadata": {
  "interpreter": {
   "hash": "ba8228c20cb4d78b40c9a9a30fde73b9a1358173029ea54621a5f1b57e0dcb6a"
  },
  "kernelspec": {
   "display_name": "Python 3 (ipykernel)",
   "language": "python",
   "name": "python3"
  },
  "language_info": {
   "codemirror_mode": {
    "name": "ipython",
    "version": 3
   },
   "file_extension": ".py",
   "mimetype": "text/x-python",
   "name": "python",
   "nbconvert_exporter": "python",
   "pygments_lexer": "ipython3",
   "version": "3.9.6"
  }
 },
 "nbformat": 4,
 "nbformat_minor": 2
}
