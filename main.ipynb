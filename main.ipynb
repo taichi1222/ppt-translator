{
 "cells": [
  {
   "cell_type": "raw",
   "metadata": {},
   "source": [
    "---\n",
    "title: パワポ ほんやくん\n",
    "description: パワポを一括で翻訳するよ\n",
    "show-code: False\n",
    "params:\n",
    "    prsname:\n",
    "        label: ファイルをアップしてください\n",
    "        input: file\n",
    "    src:\n",
    "        input: select\n",
    "        label: 元ファイルの言語を選択してください\n",
    "        value: ja\n",
    "        choices: [ja, en]\n",
    "    dest:\n",
    "        input: select\n",
    "        label: 翻訳先の言語を選択してください\n",
    "        value: en\n",
    "        choices: [ja, en]\n",
    "    output_dir:\n",
    "        output: dir\n",
    "---"
   ]
  },
  {
   "cell_type": "code",
   "execution_count": null,
   "metadata": {},
   "outputs": [],
   "source": [
    "prsname = \"******.pptx\"\n",
    "src = \"ja\"\n",
    "dest = \"en\"\n",
    "output_dir = \"output\""
   ]
  },
  {
   "cell_type": "code",
   "execution_count": 1,
   "metadata": {},
   "outputs": [],
   "source": [
    "from googletrans import Translator\n",
    "from pptx import Presentation"
   ]
  },
  {
   "cell_type": "markdown",
   "metadata": {},
   "source": [
    "# 使い方\n",
    "1. 『ファイルをアップしてください』の箇所にファイルをドラッグ＆ドロップもしくはブラウジングして持ってくる。\n",
    "2. 元ファイルの言語を選択する。\n",
    "3. 翻訳先の言語を選択する。（例）日本語→英語ならen）\n",
    "4. 『Run』を押す。\n",
    "5. 翻訳終了のメッセージが表示されたら，上部メニューバーの『Output Files』を選択し，翻訳後のスライドをダウンロードする。＊左のメニューバーのDownloadを押してもこの画面が保存されるだけ。"
   ]
  },
  {
   "cell_type": "code",
   "execution_count": 3,
   "metadata": {},
   "outputs": [],
   "source": [
    "translator = Translator()\n",
    "prs = Presentation(prsname)"
   ]
  },
  {
   "cell_type": "code",
   "execution_count": null,
   "metadata": {},
   "outputs": [],
   "source": [
    "for slide in prs.slides:\n",
    "    for shape in slide.shapes:\n",
    "        if shape.has_text_frame:\n",
    "            try:\n",
    "                changed=translator.translate(shape.text, dest=dest, src=src).text\n",
    "                shape.text = shape.text.replace(shape.text,changed)\n",
    "            except:\n",
    "                pass\n",
    "prs.save(output_dir + \"/\" +prsname.split('/')[-1].replace(\".pptx\",\"_\" + dest)+\".pptx\")"
   ]
  },
  {
   "cell_type": "markdown",
   "metadata": {},
   "source": [
    "# 翻訳終了後以下にメッセージが表示されます"
   ]
  },
  {
   "cell_type": "code",
   "execution_count": null,
   "metadata": {},
   "outputs": [],
   "source": [
    "print(\"出来た！✧*｡٩(ˊωˋ*)و✧*｡\")"
   ]
  }
 ],
 "metadata": {
  "interpreter": {
   "hash": "ba8228c20cb4d78b40c9a9a30fde73b9a1358173029ea54621a5f1b57e0dcb6a"
  },
  "kernelspec": {
   "display_name": "Python 3 (ipykernel)",
   "language": "python",
   "name": "python3"
  },
  "language_info": {
   "codemirror_mode": {
    "name": "ipython",
    "version": 3
   },
   "file_extension": ".py",
   "mimetype": "text/x-python",
   "name": "python",
   "nbconvert_exporter": "python",
   "pygments_lexer": "ipython3",
   "version": "3.9.6"
  }
 },
 "nbformat": 4,
 "nbformat_minor": 2
}
